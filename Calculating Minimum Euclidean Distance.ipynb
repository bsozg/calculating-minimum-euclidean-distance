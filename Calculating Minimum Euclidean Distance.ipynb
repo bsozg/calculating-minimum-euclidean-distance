{
 "cells": [
  {
   "cell_type": "markdown",
   "id": "d365fca3",
   "metadata": {},
   "source": [
    "## Calculating Minimum Euclidean Distance"
   ]
  },
  {
   "cell_type": "code",
   "execution_count": 1,
   "id": "b8440209",
   "metadata": {},
   "outputs": [],
   "source": [
    "import math\n",
    "#The math library is a built-in library that allows you to easily perform mathematical operations in Python."
   ]
  },
  {
   "cell_type": "markdown",
   "id": "0de2ecdb",
   "metadata": {},
   "source": [
    "#### 1. Defining Points"
   ]
  },
  {
   "cell_type": "code",
   "execution_count": 2,
   "id": "d068d531",
   "metadata": {},
   "outputs": [],
   "source": [
    "points = [(1, 2), (4, 6), (7, 8), (2, 3)]"
   ]
  },
  {
   "cell_type": "markdown",
   "id": "8e579f7d",
   "metadata": {},
   "source": [
    "#### 2. Function to Calculate Euclidean Distance"
   ]
  },
  {
   "cell_type": "code",
   "execution_count": 3,
   "id": "e631bb61",
   "metadata": {},
   "outputs": [],
   "source": [
    "def euclideanDistance(point1, point2):\n",
    "    x1, y1 = point1\n",
    "    x2, y2 = point2\n",
    "    return math.sqrt((x2 - x1)**2 + (y2 - y1)**2)\n"
   ]
  },
  {
   "cell_type": "markdown",
   "id": "728b53b7",
   "metadata": {},
   "source": [
    "#### 3. Calculating Distances"
   ]
  },
  {
   "cell_type": "code",
   "execution_count": 4,
   "id": "860d86c2",
   "metadata": {},
   "outputs": [],
   "source": [
    "distances = []\n",
    "for i in range(len(points)):\n",
    "    for j in range(i + 1, len(points)):  # i'yi ve j'yi birer kez alalım\n",
    "        distance = euclideanDistance(points[i], points[j])\n",
    "        distances.append(distance)"
   ]
  },
  {
   "cell_type": "markdown",
   "id": "b182203a",
   "metadata": {},
   "source": [
    "#### 4. Finding the Minimum Distance"
   ]
  },
  {
   "cell_type": "code",
   "execution_count": 6,
   "id": "d3ceff56",
   "metadata": {},
   "outputs": [
    {
     "name": "stdout",
     "output_type": "stream",
     "text": [
      "Minimum distance: 1.4142135623730951\n"
     ]
    }
   ],
   "source": [
    "min_distance = min(distances)\n",
    "print(f\"Minimum distance: {min_distance}\")"
   ]
  }
 ],
 "metadata": {
  "kernelspec": {
   "display_name": "Python 3 (ipykernel)",
   "language": "python",
   "name": "python3"
  },
  "language_info": {
   "codemirror_mode": {
    "name": "ipython",
    "version": 3
   },
   "file_extension": ".py",
   "mimetype": "text/x-python",
   "name": "python",
   "nbconvert_exporter": "python",
   "pygments_lexer": "ipython3",
   "version": "3.9.13"
  }
 },
 "nbformat": 4,
 "nbformat_minor": 5
}
